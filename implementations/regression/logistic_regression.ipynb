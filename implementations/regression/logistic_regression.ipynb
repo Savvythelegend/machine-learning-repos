{
  "nbformat": 4,
  "nbformat_minor": 0,
  "metadata": {
    "colab": {
      "provenance": [],
      "authorship_tag": "ABX9TyOqHEMWaBEGCrbVVZhebZG6",
      "include_colab_link": true
    },
    "kernelspec": {
      "name": "python3",
      "display_name": "Python 3"
    },
    "language_info": {
      "name": "python"
    }
  },
  "cells": [
    {
      "cell_type": "markdown",
      "metadata": {
        "id": "view-in-github",
        "colab_type": "text"
      },
      "source": [
        "<a href=\"https://colab.research.google.com/github/Savvythelegend/MLE/blob/main/logistic_regression.ipynb\" target=\"_parent\"><img src=\"https://colab.research.google.com/assets/colab-badge.svg\" alt=\"Open In Colab\"/></a>"
      ]
    },
    {
      "cell_type": "code",
      "execution_count": 1,
      "metadata": {
        "id": "bsc-isJ4vm8Y"
      },
      "outputs": [],
      "source": [
        "import numpy as np\n",
        "\n",
        "class LogisticRegression:\n",
        "    \"\"\"\n",
        "    Logistic Regression classifier using gradient descent.\n",
        "\n",
        "    Parameters:\n",
        "    ----------\n",
        "    learning_rate : float\n",
        "        The step size for gradient descent updates.\n",
        "    num_iter : int\n",
        "        Number of iterations for training loop.\n",
        "\n",
        "    Attributes:\n",
        "    ----------\n",
        "    w : ndarray\n",
        "        Weight vector.\n",
        "    b : float\n",
        "        Bias term.\n",
        "    \"\"\"\n",
        "\n",
        "    def __init__(self, learning_rate=0.01, num_iter=1000):\n",
        "        self.learning_rate = learning_rate\n",
        "        self.num_iter = num_iter\n",
        "        self.w = None\n",
        "        self.b = None\n",
        "\n",
        "    def sigmoid(self, z):\n",
        "        \"\"\"\n",
        "        Sigmoid activation function.\n",
        "\n",
        "        Parameters:\n",
        "        ----------\n",
        "        z : ndarray\n",
        "            Linear combination of weights and inputs.\n",
        "\n",
        "        Returns:\n",
        "        -------\n",
        "        ndarray\n",
        "            Output of the sigmoid function applied element-wise.\n",
        "        \"\"\"\n",
        "        return 1 / (1 + np.exp(-z))\n",
        "\n",
        "    def fit(self, X, y):\n",
        "        \"\"\"\n",
        "        Train the logistic regression model using gradient descent.\n",
        "\n",
        "        Parameters:\n",
        "        ----------\n",
        "        X : ndarray of shape (n_samples, n_features)\n",
        "            Training data.\n",
        "        y : ndarray of shape (n_samples,)\n",
        "            Binary target labels (0 or 1).\n",
        "        \"\"\"\n",
        "        n_samples, n_features = X.shape\n",
        "        self.w = np.zeros(n_features)\n",
        "        self.b = 0\n",
        "\n",
        "        for _ in range(self.num_iter):\n",
        "            # Linear model prediction\n",
        "            linear_model = np.dot(X, self.w) + self.b\n",
        "            y_predicted = self.sigmoid(linear_model)\n",
        "\n",
        "            # Compute gradients\n",
        "            dw = (1 / n_samples) * np.dot(X.T, (y_predicted - y))\n",
        "            db = (1 / n_samples) * np.sum(y_predicted - y)\n",
        "\n",
        "            # Update parameters\n",
        "            self.w -= self.learning_rate * dw\n",
        "            self.b -= self.learning_rate * db\n",
        "\n",
        "    def predict_proba(self, X):\n",
        "        \"\"\"\n",
        "        Predict class probabilities for input data.\n",
        "\n",
        "        Parameters:\n",
        "        ----------\n",
        "        X : ndarray of shape (n_samples, n_features)\n",
        "\n",
        "        Returns:\n",
        "        -------\n",
        "        ndarray\n",
        "            Probabilities for class 1.\n",
        "        \"\"\"\n",
        "        linear_model = np.dot(X, self.w) + self.b\n",
        "        return self.sigmoid(linear_model)\n",
        "\n",
        "    def predict(self, X):\n",
        "        \"\"\"\n",
        "        Predict binary class labels for input data.\n",
        "\n",
        "        Parameters:\n",
        "        ----------\n",
        "        X : ndarray of shape (n_samples, n_features)\n",
        "\n",
        "        Returns:\n",
        "        -------\n",
        "        ndarray\n",
        "            Predicted class labels (0 or 1).\n",
        "        \"\"\"\n",
        "        y_probs = self.predict_proba(X)\n",
        "        return np.where(y_probs >= 0.5, 1, 0)"
      ]
    },
    {
      "cell_type": "code",
      "source": [],
      "metadata": {
        "id": "DzKzJWOVy-O6"
      },
      "execution_count": null,
      "outputs": []
    },
    {
      "cell_type": "code",
      "source": [],
      "metadata": {
        "id": "0BzbHCHXy-MO"
      },
      "execution_count": null,
      "outputs": []
    },
    {
      "cell_type": "markdown",
      "source": [
        "## LogisticRegression implementation:\n",
        "\n",
        "### Init:\n",
        "set learning rate, iterations, initialize weights w and bias b.\n",
        "\n",
        "### Sigmoid:\n",
        "squash input z into range (0,1) using 1/(1+exp(-z)).\n",
        "\n",
        "### Fit:\n",
        "loop num_iter → compute linear model (Xw+b) → apply sigmoid → compute gradients (dw, db) → update weights and bias with gradient descent.\n",
        "\n",
        "### Predict_proba:\n",
        "return sigmoid of (Xw+b) as probabilities.\n",
        "\n",
        "### Predict:\n",
        "threshold probabilities at 0.5 → return 0 or 1 labels."
      ],
      "metadata": {
        "id": "WV05DXP4zIbB"
      }
    },
    {
      "cell_type": "code",
      "source": [
        "X = np.array([\n",
        "    [1, 2],\n",
        "    [2, 1],\n",
        "    [2, 3],\n",
        "    [3, 2],\n",
        "    [3, 4],\n",
        "    [4, 3]\n",
        "])\n",
        "\n",
        "y = np.array([0, 0, 0, 1, 1, 1])"
      ],
      "metadata": {
        "id": "9YkHjJ4qwUIl"
      },
      "execution_count": 2,
      "outputs": []
    },
    {
      "cell_type": "code",
      "source": [
        "model = LogisticRegression (learning_rate=0.01, num_iter=1000)\n",
        "model.fit(X, y)"
      ],
      "metadata": {
        "id": "M8PL-8QxwlJQ"
      },
      "execution_count": 3,
      "outputs": []
    },
    {
      "cell_type": "code",
      "source": [
        "print(\"Weights:\", model.w)\n",
        "print(\"Bias:\", model.b)\n"
      ],
      "metadata": {
        "colab": {
          "base_uri": "https://localhost:8080/"
        },
        "id": "6OE3jFuCwxCH",
        "outputId": "62eca782-8f07-446b-e5c1-5397f981ee66"
      },
      "execution_count": 5,
      "outputs": [
        {
          "output_type": "stream",
          "name": "stdout",
          "text": [
            "Weights: [ 0.777979   -0.21385172]\n",
            "Bias: -0.9945904172925308\n"
          ]
        }
      ]
    },
    {
      "cell_type": "code",
      "source": [
        "preds = model.predict(X)\n",
        "print(\"Predictions:\", preds)\n",
        "print(\"True labels:\", y)"
      ],
      "metadata": {
        "colab": {
          "base_uri": "https://localhost:8080/"
        },
        "id": "wFEXXBgUxSVl",
        "outputId": "8316b033-3dba-4742-a13d-21d616e82b8c"
      },
      "execution_count": 8,
      "outputs": [
        {
          "output_type": "stream",
          "name": "stdout",
          "text": [
            "Predictions: [0 1 0 1 1 1]\n",
            "True labels: [0 0 0 1 1 1]\n"
          ]
        }
      ]
    },
    {
      "cell_type": "code",
      "source": [
        "probs = model.predict_proba(X)\n",
        "print(\"Predicted probabilities:\", probs)"
      ],
      "metadata": {
        "colab": {
          "base_uri": "https://localhost:8080/"
        },
        "id": "UXzgHTJFxcVj",
        "outputId": "5ec42352-200b-4d5a-976a-ee59ab393324"
      },
      "execution_count": 9,
      "outputs": [
        {
          "output_type": "stream",
          "name": "stdout",
          "text": [
            "Predicted probabilities: [0.34427181 0.58601505 0.47996384 0.71333628 0.61867775 0.81393288]\n"
          ]
        }
      ]
    },
    {
      "cell_type": "code",
      "source": [
        "accuracy = np.mean(preds == y)\n",
        "print(f\"Accuracy:, {np.round(accuracy,2)*100}%\")"
      ],
      "metadata": {
        "colab": {
          "base_uri": "https://localhost:8080/"
        },
        "id": "dmjc7sJWx9s1",
        "outputId": "55d5eacc-6dda-489b-e46b-3dcadc36dbd4"
      },
      "execution_count": 13,
      "outputs": [
        {
          "output_type": "stream",
          "name": "stdout",
          "text": [
            "Accuracy:, 83.0%\n"
          ]
        }
      ]
    },
    {
      "cell_type": "code",
      "source": [
        "# testing on unseen samples\n",
        "X_test = np.array([\n",
        "    [1, 1],   # should lean towards class 0\n",
        "    [4, 4]    # should lean towards class 1\n",
        "])\n",
        "\n",
        "print(\"Test predictions:\", model.predict(X_test))\n",
        "print(\"Test probabilities:\", model.predict_proba(X_test))"
      ],
      "metadata": {
        "colab": {
          "base_uri": "https://localhost:8080/"
        },
        "id": "ULfo8Yy-yGos",
        "outputId": "de671bb8-b579-4550-dca8-c265cc2a3a89"
      },
      "execution_count": 14,
      "outputs": [
        {
          "output_type": "stream",
          "name": "stdout",
          "text": [
            "Test predictions: [0 1]\n",
            "Test probabilities: [0.39401574 0.77935623]\n"
          ]
        }
      ]
    },
    {
      "cell_type": "code",
      "source": [],
      "metadata": {
        "id": "ZcrEYB0AyzvX"
      },
      "execution_count": null,
      "outputs": []
    },
    {
      "cell_type": "code",
      "source": [],
      "metadata": {
        "id": "003dtL-azwkx"
      },
      "execution_count": null,
      "outputs": []
    },
    {
      "cell_type": "code",
      "source": [
        "## Example: Using the Class with make_classification"
      ],
      "metadata": {
        "id": "h5bmTtyDz0w6"
      },
      "execution_count": 15,
      "outputs": []
    },
    {
      "cell_type": "code",
      "source": [
        "from sklearn.datasets import make_classification\n",
        "from sklearn.model_selection import train_test_split\n",
        "from sklearn.metrics import accuracy_score\n",
        "\n",
        "# Generate synthetic binary classification dataset\n",
        "X, y = make_classification(\n",
        "    n_samples=1000,\n",
        "    n_features=10,\n",
        "    n_classes=2,\n",
        "    random_state=42\n",
        ")\n",
        "\n",
        "# Split into training and test sets\n",
        "X_train, X_test, y_train, y_test = train_test_split(\n",
        "    X, y, test_size=0.2, random_state=42\n",
        ")\n",
        "\n",
        "# Initialize and train model\n",
        "model = LogisticRegression(learning_rate=0.1, num_iter=1000)\n",
        "model.fit(X_train, y_train)\n",
        "\n",
        "# Predict and evaluate\n",
        "y_pred = model.predict(X_test)\n",
        "acc = accuracy_score(y_test, y_pred)\n",
        "\n",
        "print(\"Test Accuracy:\", acc)"
      ],
      "metadata": {
        "colab": {
          "base_uri": "https://localhost:8080/"
        },
        "id": "Hpov3mxnzwVy",
        "outputId": "fa883083-278b-4030-ec23-99b6eabf5ce2"
      },
      "execution_count": 16,
      "outputs": [
        {
          "output_type": "stream",
          "name": "stdout",
          "text": [
            "Test Accuracy: 0.825\n"
          ]
        }
      ]
    },
    {
      "cell_type": "code",
      "source": [],
      "metadata": {
        "id": "ZlCq7Ox0z3RH"
      },
      "execution_count": null,
      "outputs": []
    }
  ]
}
