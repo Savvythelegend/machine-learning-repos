{
 "cells": [
  {
   "cell_type": "markdown",
   "id": "e51b3661-7552-4625-a1a2-f8a53cdbda54",
   "metadata": {},
   "source": [
    "# Diet Recommendation System (Basic Version)"
   ]
  },
  {
   "cell_type": "markdown",
   "id": "5918a4e1-c0f0-46b1-8b63-6e25e0816620",
   "metadata": {},
   "source": [
    "# Install necessary libraries"
   ]
  },
  {
   "cell_type": "code",
   "execution_count": 7,
   "id": "bfd7cc27-4a1d-4aac-81fe-eac8f21df9ef",
   "metadata": {},
   "outputs": [
    {
     "name": "stdout",
     "output_type": "stream",
     "text": [
      "Requirement already satisfied: pandas in c:\\users\\rameswar bisoyi\\anaconda3\\lib\\site-packages (2.2.2)\n",
      "Requirement already satisfied: numpy>=1.26.0 in c:\\users\\rameswar bisoyi\\anaconda3\\lib\\site-packages (from pandas) (1.26.4)\n",
      "Requirement already satisfied: python-dateutil>=2.8.2 in c:\\users\\rameswar bisoyi\\anaconda3\\lib\\site-packages (from pandas) (2.9.0.post0)\n",
      "Requirement already satisfied: pytz>=2020.1 in c:\\users\\rameswar bisoyi\\anaconda3\\lib\\site-packages (from pandas) (2024.1)\n",
      "Requirement already satisfied: tzdata>=2022.7 in c:\\users\\rameswar bisoyi\\anaconda3\\lib\\site-packages (from pandas) (2023.3)\n",
      "Requirement already satisfied: six>=1.5 in c:\\users\\rameswar bisoyi\\anaconda3\\lib\\site-packages (from python-dateutil>=2.8.2->pandas) (1.16.0)\n"
     ]
    }
   ],
   "source": [
    "!pip install pandas\n",
    "\n",
    "import pandas as pd"
   ]
  },
  {
   "cell_type": "markdown",
   "id": "495edbf2-870d-403b-a35c-504f505630cd",
   "metadata": {},
   "source": [
    "# Function to get basic diet recommendations"
   ]
  },
  {
   "cell_type": "code",
   "execution_count": 9,
   "id": "b21d9cf3-df1a-4376-90f5-9596a0f31d18",
   "metadata": {},
   "outputs": [],
   "source": [
    "def get_diet_recommendation(age, weight, height, activity_level, goal):\n",
    "    # Basic calculations\n",
    "    bmi = weight / (height / 100) ** 2\n",
    "    calories_needed = 0\n",
    "\n",
    "    # Determine calorie needs based on activity level\n",
    "    if activity_level == 'low':\n",
    "        calories_needed = 2000 if goal == 'maintain' else (1800 if goal == 'lose' else 2200)\n",
    "    elif activity_level == 'medium':\n",
    "        calories_needed = 2200 if goal == 'maintain' else (2000 if goal == 'lose' else 2400)\n",
    "    elif activity_level == 'high':\n",
    "        calories_needed = 2500 if goal == 'maintain' else (2300 if goal == 'lose' else 2700)\n",
    "\n",
    "    # Basic diet recommendation\n",
    "    diet_plan = {\n",
    "        'Breakfast': f'Oats with fruits and nuts - {calories_needed * 0.3:.0f} cal',\n",
    "        'Lunch': f'Grilled chicken with vegetables - {calories_needed * 0.4:.0f} cal',\n",
    "        'Dinner': f'Salad with chickpeas and avocado - {calories_needed * 0.3:.0f} cal'\n",
    "    }\n",
    "\n",
    "    return {\n",
    "        'BMI': round(bmi, 2),\n",
    "        'Calories Needed': calories_needed,\n",
    "        'Diet Plan': diet_plan\n",
    "    }\n"
   ]
  },
  {
   "cell_type": "markdown",
   "id": "b1f6fce0-1de5-4f8a-a9ed-609a6ada2da3",
   "metadata": {},
   "source": [
    "# Input user information"
   ]
  },
  {
   "cell_type": "code",
   "execution_count": 15,
   "id": "0c51a088-cf5b-45a6-ad3e-7260f3d7ca4a",
   "metadata": {},
   "outputs": [
    {
     "name": "stdout",
     "output_type": "stream",
     "text": [
      "Enter age:  20\n",
      "Enter weight in kg:  59\n",
      "Enter height in cm:  172\n",
      "Enter activity level (low, medium, high):  medium\n",
      "Enter your goal (maintain, lose, gain):  gain\n"
     ]
    }
   ],
   "source": [
    "age = int(input(\"Enter age: \"))\n",
    "weight = float(input(\"Enter weight in kg: \"))\n",
    "height = float(input(\"Enter height in cm: \"))\n",
    "activity_level = input(\"Enter activity level (low, medium, high): \").lower()\n",
    "goal = input(\"Enter your goal (maintain, lose, gain): \").lower()\n",
    "\n",
    "# Get diet recommendation\n",
    "recommendation = get_diet_recommendation(age, weight, height, activity_level, goal)"
   ]
  },
  {
   "cell_type": "markdown",
   "id": "2c119676-3b1d-4929-ba0d-d3da08cf6297",
   "metadata": {},
   "source": [
    "# Display result"
   ]
  },
  {
   "cell_type": "code",
   "execution_count": 18,
   "id": "ebeb1765-a75f-4e81-b882-ea76c1efde5f",
   "metadata": {},
   "outputs": [
    {
     "name": "stdout",
     "output_type": "stream",
     "text": [
      "\n",
      "Your Diet Recommendation:\n",
      "BMI: 19.94\n",
      "Calories Needed: 2400\n",
      "Meal Plan:\n",
      "Breakfast: Oats with fruits and nuts - 720 cal\n",
      "Lunch: Grilled chicken with vegetables - 960 cal\n",
      "Dinner: Salad with chickpeas and avocado - 720 cal\n"
     ]
    }
   ],
   "source": [
    "print(\"\\nYour Diet Recommendation:\")\n",
    "print(f\"BMI: {recommendation['BMI']}\")\n",
    "print(f\"Calories Needed: {recommendation['Calories Needed']}\")\n",
    "print(\"Meal Plan:\")\n",
    "for meal, details in recommendation['Diet Plan'].items():\n",
    "    print(f\"{meal}: {details}\")\n"
   ]
  },
  {
   "cell_type": "code",
   "execution_count": null,
   "id": "e2208375-2574-4696-9320-601c78fa3ba7",
   "metadata": {},
   "outputs": [],
   "source": []
  }
 ],
 "metadata": {
  "kernelspec": {
   "display_name": "base",
   "language": "python",
   "name": "python3"
  },
  "language_info": {
   "codemirror_mode": {
    "name": "ipython",
    "version": 3
   },
   "file_extension": ".py",
   "mimetype": "text/x-python",
   "name": "python",
   "nbconvert_exporter": "python",
   "pygments_lexer": "ipython3",
   "version": "3.12.4"
  }
 },
 "nbformat": 4,
 "nbformat_minor": 5
}
